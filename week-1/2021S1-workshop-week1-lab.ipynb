{
 "cells": [
  {
   "cell_type": "markdown",
   "metadata": {},
   "source": [
    "# Elements Of Data Processing (2021S1) - Week 1\n"
   ]
  },
  {
   "cell_type": "markdown",
   "metadata": {},
   "source": [
    "## Pandas\n",
    "Libraries contain useful resources, such as classes and subroutines, that you can use in your programs.\n",
    "\n",
    "Pansas is a library that contains high-level data structures and manipulation tools for faster analysis.  As with most libraries, an [API reference](https://pandas.pydata.org/pandas-docs/stable/reference/index.html) is available which details all of the functionality provided by pandas.  This lab will focus on the two most important data structures provided by pandas, the [Series](https://pandas.pydata.org/pandas-docs/stable/reference/series.html) and [Data Frame](https://pandas.pydata.org/pandas-docs/stable/reference/frame.html).\n",
    "\n",
    "It's worth reading through the [Intro to Data Structures](https://pandas.pydata.org/pandas-docs/stable/getting_started/dsintro.html) article on the pandas website to familiarise yourself with these two data structures.  There are also a number of step-by-step tutorials available online, such as [this one by DataCamp](https://www.datacamp.com/community/tutorials/pandas-tutorial-dataframe-python) which are worth following.\n",
    "\n",
    "Before we can use any of the Pandas functions, we must import the Pandas library using the following line."
   ]
  },
  {
   "cell_type": "code",
   "execution_count": 2,
   "metadata": {},
   "outputs": [],
   "source": [
    "import pandas as pd"
   ]
  },
  {
   "cell_type": "markdown",
   "metadata": {},
   "source": [
    "### Series\n",
    "One-dimensional array-like object containing the array of data and an associated array of data labels called index.\n",
    "\n",
    "<img src=\"images/series1.jpg\">\n",
    "\n",
    "The basic method to create a Series:\n",
    "    \n",
    "    - s = Series(data, index=index)\n",
    "\n",
    "Here, data can be different things, including:\n",
    "    \n",
    "    - a list\n",
    "    - an array\n",
    "    - a dictionary"
   ]
  },
  {
   "cell_type": "markdown",
   "metadata": {},
   "source": [
    "#### Example 1 : Create a Basic Series Object"
   ]
  },
  {
   "cell_type": "code",
   "execution_count": 6,
   "metadata": {},
   "outputs": [],
   "source": [
    "# Series constructor with data as a list of integers\n",
    "\n",
    "l = [4,3,-5,9,1,7]\n",
    "s = pd.Series(l)"
   ]
  },
  {
   "cell_type": "code",
   "execution_count": 7,
   "metadata": {},
   "outputs": [
    {
     "output_type": "execute_result",
     "data": {
      "text/plain": [
       "RangeIndex(start=0, stop=6, step=1)"
      ]
     },
     "metadata": {},
     "execution_count": 7
    }
   ],
   "source": [
    "# The default indexing starts from zero\n",
    "s.index"
   ]
  },
  {
   "cell_type": "code",
   "execution_count": 8,
   "metadata": {},
   "outputs": [
    {
     "output_type": "execute_result",
     "data": {
      "text/plain": [
       "array([ 4,  3, -5,  9,  1,  7], dtype=int64)"
      ]
     },
     "metadata": {},
     "execution_count": 8
    }
   ],
   "source": [
    "# Retrieve the values of the series\n",
    "s.values"
   ]
  },
  {
   "cell_type": "code",
   "execution_count": 9,
   "metadata": {},
   "outputs": [],
   "source": [
    "# Create your own index using lists\n",
    "newIndex = ['a','b','c','d','e','f']\n",
    "s.index  = newIndex"
   ]
  },
  {
   "cell_type": "code",
   "execution_count": 10,
   "metadata": {},
   "outputs": [
    {
     "output_type": "execute_result",
     "data": {
      "text/plain": [
       "a    4\n",
       "b    3\n",
       "c   -5\n",
       "d    9\n",
       "e    1\n",
       "f    7\n",
       "dtype: int64"
      ]
     },
     "metadata": {},
     "execution_count": 10
    }
   ],
   "source": [
    "# Verify the index\n",
    "s"
   ]
  },
  {
   "cell_type": "code",
   "execution_count": 12,
   "metadata": {},
   "outputs": [],
   "source": [
    "# Create a series from a python dict\n",
    "\n",
    "Aus_Emission = {'1990':15.45288167, '2000':17.20060983, '2007':17.86526004,\n",
    "                '2008':18.16087566,'2009':18.20018196,'2010':16.92095367,\n",
    "                '2011':16.86260095, '2012':16.51938578, '2013':16.34730205}\n",
    "\n",
    "co2_Emission = pd.Series(Aus_Emission)"
   ]
  },
  {
   "cell_type": "code",
   "execution_count": 13,
   "metadata": {},
   "outputs": [
    {
     "output_type": "execute_result",
     "data": {
      "text/plain": [
       "array([15.45288167, 17.20060983, 17.86526004, 18.16087566, 18.20018196,\n",
       "       16.92095367, 16.86260095, 16.51938578, 16.34730205])"
      ]
     },
     "metadata": {},
     "execution_count": 13
    }
   ],
   "source": [
    "# Retrieve the values of the series\n",
    "co2_Emission.values"
   ]
  },
  {
   "cell_type": "code",
   "execution_count": 14,
   "metadata": {},
   "outputs": [
    {
     "output_type": "execute_result",
     "data": {
      "text/plain": [
       "1990    15.452882\n",
       "2000    17.200610\n",
       "2007    17.865260\n",
       "2008    18.160876\n",
       "2009    18.200182\n",
       "2010    16.920954\n",
       "2011    16.862601\n",
       "2012    16.519386\n",
       "2013    16.347302\n",
       "dtype: float64"
      ]
     },
     "metadata": {},
     "execution_count": 14
    }
   ],
   "source": [
    "# Verify the series object\n",
    "co2_Emission"
   ]
  },
  {
   "cell_type": "code",
   "execution_count": 15,
   "metadata": {},
   "outputs": [
    {
     "output_type": "execute_result",
     "data": {
      "text/plain": [
       "Index(['1990', '2000', '2007', '2008', '2009', '2010', '2011', '2012', '2013'], dtype='object')"
      ]
     },
     "metadata": {},
     "execution_count": 15
    }
   ],
   "source": [
    "co2_Emission.index"
   ]
  },
  {
   "cell_type": "markdown",
   "metadata": {},
   "source": [
    "### Slicing\n",
    "Slicing allows you to take part of a Series or DataFrame, in order to visualise it separately or perform more detailed analysis.  You can **select** sections of list-like types (arrays, tuples, NumPy arrays) by using various slice notations:"
   ]
  },
  {
   "cell_type": "code",
   "execution_count": 16,
   "metadata": {},
   "outputs": [
    {
     "output_type": "execute_result",
     "data": {
      "text/plain": [
       "2000    17.200610\n",
       "2007    17.865260\n",
       "2008    18.160876\n",
       "2009    18.200182\n",
       "2010    16.920954\n",
       "2011    16.862601\n",
       "2012    16.519386\n",
       "2013    16.347302\n",
       "dtype: float64"
      ]
     },
     "metadata": {},
     "execution_count": 16
    }
   ],
   "source": [
    "# Slicing the series using a boolean array operation \n",
    "co2_Emission[co2_Emission>16.0]"
   ]
  },
  {
   "cell_type": "code",
   "execution_count": 17,
   "metadata": {},
   "outputs": [
    {
     "output_type": "execute_result",
     "data": {
      "text/plain": [
       "1990    15.452882\n",
       "2000    17.200610\n",
       "dtype: float64"
      ]
     },
     "metadata": {},
     "execution_count": 17
    }
   ],
   "source": [
    "# Slicing the series using a time period\n",
    "co2_Emission[:'2000']"
   ]
  },
  {
   "cell_type": "code",
   "execution_count": 18,
   "metadata": {},
   "outputs": [
    {
     "output_type": "execute_result",
     "data": {
      "text/plain": [
       "1990    30.905763\n",
       "2000    34.401220\n",
       "2007    35.730520\n",
       "2008    36.321751\n",
       "2009    36.400364\n",
       "2010    33.841907\n",
       "2011    33.725202\n",
       "2012    33.038772\n",
       "2013    32.694604\n",
       "dtype: float64"
      ]
     },
     "metadata": {},
     "execution_count": 18
    }
   ],
   "source": [
    "# Doubling the values of the series object\n",
    "doubled = co2_Emission*2\n",
    "doubled"
   ]
  },
  {
   "cell_type": "code",
   "execution_count": 19,
   "metadata": {},
   "outputs": [
    {
     "output_type": "execute_result",
     "data": {
      "text/plain": [
       "17.05889462333333"
      ]
     },
     "metadata": {},
     "execution_count": 19
    }
   ],
   "source": [
    "# Finding the average value of the series\n",
    "co2_Emission.mean()"
   ]
  },
  {
   "cell_type": "code",
   "execution_count": 20,
   "metadata": {},
   "outputs": [],
   "source": [
    "# Defining the column name\n",
    "co2_Emission.name = 'CO2 Emission'"
   ]
  },
  {
   "cell_type": "code",
   "execution_count": 21,
   "metadata": {},
   "outputs": [],
   "source": [
    "# Defining the name of the index\n",
    "co2_Emission.index.name = 'Year'"
   ]
  },
  {
   "cell_type": "code",
   "execution_count": null,
   "metadata": {},
   "outputs": [],
   "source": [
    "# Verifying the series object\n",
    "co2_Emission"
   ]
  },
  {
   "cell_type": "markdown",
   "metadata": {},
   "source": [
    "### Exercise 2\n",
    "\n",
    "Pandas Series objects have both <i>ndarray-like</i> and <i>dict-like properties</i>. Given the co2_Emission series object, do the following:\n",
    "\n",
    "- Similar to the average of the series object, retrieve the maximum, median and cumulative sum of CO2 emission between  1960 to 2013 (max(), median() and cumsum() methods).\n",
    "- Retrieve the CO2 emissions in Australia between 2000 to 2010.\n",
    "- Given the population of Australia in 2013 was 23117353, retrieve the CO2 emission per capita for that year.\n",
    "\n"
   ]
  },
  {
   "cell_type": "code",
   "execution_count": 27,
   "metadata": {},
   "outputs": [
    {
     "output_type": "execute_result",
     "data": {
      "text/plain": [
       "Index(['1990', '2000', '2007', '2008', '2009', '2010', '2011', '2012', '2013'], dtype='object', name='Year')"
      ]
     },
     "metadata": {},
     "execution_count": 27
    }
   ],
   "source": [
    "# assuming the desired range is instead 1990 to 2013.\r\n",
    "co2_Emission.index "
   ]
  },
  {
   "cell_type": "code",
   "execution_count": 26,
   "metadata": {},
   "outputs": [
    {
     "output_type": "execute_result",
     "data": {
      "text/plain": [
       "18.20018196"
      ]
     },
     "metadata": {},
     "execution_count": 26
    }
   ],
   "source": [
    "co2_Emission.max()"
   ]
  },
  {
   "cell_type": "code",
   "execution_count": 24,
   "metadata": {},
   "outputs": [
    {
     "output_type": "execute_result",
     "data": {
      "text/plain": [
       "16.92095367"
      ]
     },
     "metadata": {},
     "execution_count": 24
    }
   ],
   "source": [
    "co2_Emission.median()"
   ]
  },
  {
   "cell_type": "code",
   "execution_count": 25,
   "metadata": {},
   "outputs": [
    {
     "output_type": "execute_result",
     "data": {
      "text/plain": [
       "Year\n",
       "1990     15.452882\n",
       "2000     32.653492\n",
       "2007     50.518752\n",
       "2008     68.679627\n",
       "2009     86.879809\n",
       "2010    103.800763\n",
       "2011    120.663364\n",
       "2012    137.182750\n",
       "2013    153.530052\n",
       "Name: CO2 Emission, dtype: float64"
      ]
     },
     "metadata": {},
     "execution_count": 25
    }
   ],
   "source": [
    "co2_Emission.cumsum()"
   ]
  },
  {
   "cell_type": "code",
   "execution_count": 28,
   "metadata": {},
   "outputs": [
    {
     "output_type": "execute_result",
     "data": {
      "text/plain": [
       "Year\n",
       "2000    17.200610\n",
       "2007    17.865260\n",
       "2008    18.160876\n",
       "2009    18.200182\n",
       "2010    16.920954\n",
       "Name: CO2 Emission, dtype: float64"
      ]
     },
     "metadata": {},
     "execution_count": 28
    }
   ],
   "source": [
    "co2_Emission['2000':'2010']"
   ]
  },
  {
   "cell_type": "code",
   "execution_count": 38,
   "metadata": {},
   "outputs": [
    {
     "output_type": "execute_result",
     "data": {
      "text/plain": [
       "7.071441981268357e-07"
      ]
     },
     "metadata": {},
     "execution_count": 38
    }
   ],
   "source": [
    "# per-capita == per-person\r\n",
    "co2_Emission['2013'] / 23117353"
   ]
  },
  {
   "cell_type": "markdown",
   "metadata": {},
   "source": [
    "# DataFrames\n",
    "\n",
    "DataFrames represents tabular data structure and can contain multiple rows and columns.  They can be thought of as a dictionary of Series objects, and are one of the most important data structures you will use to store and manipulate information in data science.\n",
    "\n",
    "A DataFrame has both row and column indices.\n",
    "\n",
    "The Pandas DataFrame structure contains many useful methods to aid your analysis.  [API reference](https://pandas.pydata.org/pandas-docs/stable/reference/index.html) is available which details all of the functionality provided by pandas.  You will particularly need con consult the [DataFrame](https://pandas.pydata.org/pandas-docs/stable/reference/frame.html) reference page.\n",
    "\n",
    "\n",
    "<img src=\"images/DF.jpg\">\n"
   ]
  },
  {
   "cell_type": "code",
   "execution_count": 30,
   "metadata": {},
   "outputs": [],
   "source": [
    "# as before, begin by importing the pandas library\n",
    "import pandas as pd"
   ]
  },
  {
   "cell_type": "code",
   "execution_count": 31,
   "metadata": {},
   "outputs": [],
   "source": [
    "# create a new series of the population\n",
    "Aus_Population = {'1990':17065100, '2000':19153000, '2007':20827600,\n",
    "                 '2008':21249200,'2009':21691700,'2010':22031750,\n",
    "                 '2011':22340024, '2012':22728254, '2013':23117353}\n",
    "population = pd.Series(Aus_Population)"
   ]
  },
  {
   "cell_type": "code",
   "execution_count": 32,
   "metadata": {},
   "outputs": [],
   "source": [
    "Aus_Emission = {'1990':15.45288167, '2000':17.20060983, '2007':17.86526004,\n",
    "                '2008':18.16087566,'2009':18.20018196,'2010':16.92095367,\n",
    "                '2011':16.86260095, '2012':16.51938578, '2013':16.34730205}\n",
    "\n",
    "co2_Emission = pd.Series(Aus_Emission)"
   ]
  },
  {
   "cell_type": "code",
   "execution_count": 33,
   "metadata": {},
   "outputs": [
    {
     "output_type": "execute_result",
     "data": {
      "text/plain": [
       "1990    17065100\n",
       "2000    19153000\n",
       "2007    20827600\n",
       "2008    21249200\n",
       "2009    21691700\n",
       "2010    22031750\n",
       "2011    22340024\n",
       "2012    22728254\n",
       "2013    23117353\n",
       "dtype: int64"
      ]
     },
     "metadata": {},
     "execution_count": 33
    }
   ],
   "source": [
    "# verify the values in the series\n",
    "population"
   ]
  },
  {
   "cell_type": "code",
   "execution_count": 34,
   "metadata": {},
   "outputs": [
    {
     "output_type": "execute_result",
     "data": {
      "text/plain": [
       "      co2_emission  Population\n",
       "1990     15.452882    17065100\n",
       "2000     17.200610    19153000\n",
       "2007     17.865260    20827600\n",
       "2008     18.160876    21249200\n",
       "2009     18.200182    21691700\n",
       "2010     16.920954    22031750\n",
       "2011     16.862601    22340024\n",
       "2012     16.519386    22728254\n",
       "2013     16.347302    23117353"
      ],
      "text/html": "<div>\n<style scoped>\n    .dataframe tbody tr th:only-of-type {\n        vertical-align: middle;\n    }\n\n    .dataframe tbody tr th {\n        vertical-align: top;\n    }\n\n    .dataframe thead th {\n        text-align: right;\n    }\n</style>\n<table border=\"1\" class=\"dataframe\">\n  <thead>\n    <tr style=\"text-align: right;\">\n      <th></th>\n      <th>co2_emission</th>\n      <th>Population</th>\n    </tr>\n  </thead>\n  <tbody>\n    <tr>\n      <th>1990</th>\n      <td>15.452882</td>\n      <td>17065100</td>\n    </tr>\n    <tr>\n      <th>2000</th>\n      <td>17.200610</td>\n      <td>19153000</td>\n    </tr>\n    <tr>\n      <th>2007</th>\n      <td>17.865260</td>\n      <td>20827600</td>\n    </tr>\n    <tr>\n      <th>2008</th>\n      <td>18.160876</td>\n      <td>21249200</td>\n    </tr>\n    <tr>\n      <th>2009</th>\n      <td>18.200182</td>\n      <td>21691700</td>\n    </tr>\n    <tr>\n      <th>2010</th>\n      <td>16.920954</td>\n      <td>22031750</td>\n    </tr>\n    <tr>\n      <th>2011</th>\n      <td>16.862601</td>\n      <td>22340024</td>\n    </tr>\n    <tr>\n      <th>2012</th>\n      <td>16.519386</td>\n      <td>22728254</td>\n    </tr>\n    <tr>\n      <th>2013</th>\n      <td>16.347302</td>\n      <td>23117353</td>\n    </tr>\n  </tbody>\n</table>\n</div>"
     },
     "metadata": {},
     "execution_count": 34
    }
   ],
   "source": [
    "# create a DataFrame object from the series objects\n",
    "australia = pd.DataFrame({'co2_emission':co2_Emission, 'Population':population})\n",
    "australia"
   ]
  },
  {
   "cell_type": "code",
   "execution_count": 35,
   "metadata": {},
   "outputs": [],
   "source": [
    "# create a DataFrame from a csv file\n",
    "countries = pd.read_csv('data/countries.csv',encoding = 'ISO-8859-1')"
   ]
  },
  {
   "cell_type": "code",
   "execution_count": 36,
   "metadata": {},
   "outputs": [
    {
     "output_type": "execute_result",
     "data": {
      "text/plain": [
       "               Country                      Region          IncomeGroup\n",
       "0          Afghanistan                  South Asia           Low income\n",
       "1              Albania       Europe & Central Asia  Upper middle income\n",
       "2              Algeria  Middle East & North Africa  Upper middle income\n",
       "3       American Samoa         East Asia & Pacific  Upper middle income\n",
       "4              Andorra       Europe & Central Asia          High income\n",
       "5               Angola          Sub-Saharan Africa  Upper middle income\n",
       "6  Antigua and Barbuda   Latin America & Caribbean          High income\n",
       "7            Argentina   Latin America & Caribbean  Upper middle income\n",
       "8              Armenia       Europe & Central Asia  Lower middle income\n",
       "9                Aruba   Latin America & Caribbean          High income"
      ],
      "text/html": "<div>\n<style scoped>\n    .dataframe tbody tr th:only-of-type {\n        vertical-align: middle;\n    }\n\n    .dataframe tbody tr th {\n        vertical-align: top;\n    }\n\n    .dataframe thead th {\n        text-align: right;\n    }\n</style>\n<table border=\"1\" class=\"dataframe\">\n  <thead>\n    <tr style=\"text-align: right;\">\n      <th></th>\n      <th>Country</th>\n      <th>Region</th>\n      <th>IncomeGroup</th>\n    </tr>\n  </thead>\n  <tbody>\n    <tr>\n      <th>0</th>\n      <td>Afghanistan</td>\n      <td>South Asia</td>\n      <td>Low income</td>\n    </tr>\n    <tr>\n      <th>1</th>\n      <td>Albania</td>\n      <td>Europe &amp; Central Asia</td>\n      <td>Upper middle income</td>\n    </tr>\n    <tr>\n      <th>2</th>\n      <td>Algeria</td>\n      <td>Middle East &amp; North Africa</td>\n      <td>Upper middle income</td>\n    </tr>\n    <tr>\n      <th>3</th>\n      <td>American Samoa</td>\n      <td>East Asia &amp; Pacific</td>\n      <td>Upper middle income</td>\n    </tr>\n    <tr>\n      <th>4</th>\n      <td>Andorra</td>\n      <td>Europe &amp; Central Asia</td>\n      <td>High income</td>\n    </tr>\n    <tr>\n      <th>5</th>\n      <td>Angola</td>\n      <td>Sub-Saharan Africa</td>\n      <td>Upper middle income</td>\n    </tr>\n    <tr>\n      <th>6</th>\n      <td>Antigua and Barbuda</td>\n      <td>Latin America &amp; Caribbean</td>\n      <td>High income</td>\n    </tr>\n    <tr>\n      <th>7</th>\n      <td>Argentina</td>\n      <td>Latin America &amp; Caribbean</td>\n      <td>Upper middle income</td>\n    </tr>\n    <tr>\n      <th>8</th>\n      <td>Armenia</td>\n      <td>Europe &amp; Central Asia</td>\n      <td>Lower middle income</td>\n    </tr>\n    <tr>\n      <th>9</th>\n      <td>Aruba</td>\n      <td>Latin America &amp; Caribbean</td>\n      <td>High income</td>\n    </tr>\n  </tbody>\n</table>\n</div>"
     },
     "metadata": {},
     "execution_count": 36
    }
   ],
   "source": [
    "# check the top 10 countries in the DataFrame\n",
    "countries.head(10) # the default value is set to 5"
   ]
  },
  {
   "cell_type": "code",
   "execution_count": 39,
   "metadata": {},
   "outputs": [
    {
     "output_type": "execute_result",
     "data": {
      "text/plain": [
       "Europe & Central Asia         58\n",
       "Sub-Saharan Africa            48\n",
       "Latin America & Caribbean     42\n",
       "East Asia & Pacific           37\n",
       "Middle East & North Africa    21\n",
       "South Asia                     8\n",
       "North America                  3\n",
       "Name: Region, dtype: int64"
      ]
     },
     "metadata": {},
     "execution_count": 39
    }
   ],
   "source": [
    "# count the number of countries in each region\n",
    "countries.Region.value_counts()"
   ]
  },
  {
   "cell_type": "code",
   "execution_count": 40,
   "metadata": {},
   "outputs": [
    {
     "output_type": "execute_result",
     "data": {
      "text/plain": [
       "                                           Region          IncomeGroup\n",
       "Country                                                               \n",
       "Afghanistan                            South Asia           Low income\n",
       "Albania                     Europe & Central Asia  Upper middle income\n",
       "Algeria                Middle East & North Africa  Upper middle income\n",
       "American Samoa                East Asia & Pacific  Upper middle income\n",
       "Andorra                     Europe & Central Asia          High income\n",
       "...                                           ...                  ...\n",
       "Virgin Islands (U.S.)   Latin America & Caribbean          High income\n",
       "West Bank and Gaza     Middle East & North Africa  Lower middle income\n",
       "Yemen, Rep.            Middle East & North Africa  Lower middle income\n",
       "Zambia                         Sub-Saharan Africa  Lower middle income\n",
       "Zimbabwe                       Sub-Saharan Africa           Low income\n",
       "\n",
       "[217 rows x 2 columns]"
      ],
      "text/html": "<div>\n<style scoped>\n    .dataframe tbody tr th:only-of-type {\n        vertical-align: middle;\n    }\n\n    .dataframe tbody tr th {\n        vertical-align: top;\n    }\n\n    .dataframe thead th {\n        text-align: right;\n    }\n</style>\n<table border=\"1\" class=\"dataframe\">\n  <thead>\n    <tr style=\"text-align: right;\">\n      <th></th>\n      <th>Region</th>\n      <th>IncomeGroup</th>\n    </tr>\n    <tr>\n      <th>Country</th>\n      <th></th>\n      <th></th>\n    </tr>\n  </thead>\n  <tbody>\n    <tr>\n      <th>Afghanistan</th>\n      <td>South Asia</td>\n      <td>Low income</td>\n    </tr>\n    <tr>\n      <th>Albania</th>\n      <td>Europe &amp; Central Asia</td>\n      <td>Upper middle income</td>\n    </tr>\n    <tr>\n      <th>Algeria</th>\n      <td>Middle East &amp; North Africa</td>\n      <td>Upper middle income</td>\n    </tr>\n    <tr>\n      <th>American Samoa</th>\n      <td>East Asia &amp; Pacific</td>\n      <td>Upper middle income</td>\n    </tr>\n    <tr>\n      <th>Andorra</th>\n      <td>Europe &amp; Central Asia</td>\n      <td>High income</td>\n    </tr>\n    <tr>\n      <th>...</th>\n      <td>...</td>\n      <td>...</td>\n    </tr>\n    <tr>\n      <th>Virgin Islands (U.S.)</th>\n      <td>Latin America &amp; Caribbean</td>\n      <td>High income</td>\n    </tr>\n    <tr>\n      <th>West Bank and Gaza</th>\n      <td>Middle East &amp; North Africa</td>\n      <td>Lower middle income</td>\n    </tr>\n    <tr>\n      <th>Yemen, Rep.</th>\n      <td>Middle East &amp; North Africa</td>\n      <td>Lower middle income</td>\n    </tr>\n    <tr>\n      <th>Zambia</th>\n      <td>Sub-Saharan Africa</td>\n      <td>Lower middle income</td>\n    </tr>\n    <tr>\n      <th>Zimbabwe</th>\n      <td>Sub-Saharan Africa</td>\n      <td>Low income</td>\n    </tr>\n  </tbody>\n</table>\n<p>217 rows × 2 columns</p>\n</div>"
     },
     "metadata": {},
     "execution_count": 40
    }
   ],
   "source": [
    "# set the name of countries as the index\n",
    "countries.set_index('Country')"
   ]
  },
  {
   "cell_type": "code",
   "execution_count": 42,
   "metadata": {},
   "outputs": [
    {
     "output_type": "execute_result",
     "data": {
      "text/plain": [
       "          Country      1990      2000      2007      2008      2009      2010  \\\n",
       "0     Afghanistan  0.216661  0.039272  0.087858  0.158962  0.249074  0.302936   \n",
       "1         Albania  1.615624  0.978175  1.322335  1.484311  1.495600  1.578574   \n",
       "2         Algeria  3.007911  2.819778  3.195865  3.168524  3.430129  3.307164   \n",
       "3  American Samoa       NaN       NaN       NaN       NaN       NaN       NaN   \n",
       "4         Andorra       NaN  8.018181  6.350868  6.296125  6.049173  6.124770   \n",
       "\n",
       "       2011      2012      2013  2014  2015  2016  \n",
       "0  0.425262  0.688084  0.693183   NaN   NaN   NaN  \n",
       "1  1.803972  1.624722  1.662185   NaN   NaN   NaN  \n",
       "2  3.300558  3.471950  3.514780   NaN   NaN   NaN  \n",
       "3       NaN       NaN       NaN   NaN   NaN   NaN  \n",
       "4  5.968685  6.195194  6.473848   NaN   NaN   NaN  "
      ],
      "text/html": "<div>\n<style scoped>\n    .dataframe tbody tr th:only-of-type {\n        vertical-align: middle;\n    }\n\n    .dataframe tbody tr th {\n        vertical-align: top;\n    }\n\n    .dataframe thead th {\n        text-align: right;\n    }\n</style>\n<table border=\"1\" class=\"dataframe\">\n  <thead>\n    <tr style=\"text-align: right;\">\n      <th></th>\n      <th>Country</th>\n      <th>1990</th>\n      <th>2000</th>\n      <th>2007</th>\n      <th>2008</th>\n      <th>2009</th>\n      <th>2010</th>\n      <th>2011</th>\n      <th>2012</th>\n      <th>2013</th>\n      <th>2014</th>\n      <th>2015</th>\n      <th>2016</th>\n    </tr>\n  </thead>\n  <tbody>\n    <tr>\n      <th>0</th>\n      <td>Afghanistan</td>\n      <td>0.216661</td>\n      <td>0.039272</td>\n      <td>0.087858</td>\n      <td>0.158962</td>\n      <td>0.249074</td>\n      <td>0.302936</td>\n      <td>0.425262</td>\n      <td>0.688084</td>\n      <td>0.693183</td>\n      <td>NaN</td>\n      <td>NaN</td>\n      <td>NaN</td>\n    </tr>\n    <tr>\n      <th>1</th>\n      <td>Albania</td>\n      <td>1.615624</td>\n      <td>0.978175</td>\n      <td>1.322335</td>\n      <td>1.484311</td>\n      <td>1.495600</td>\n      <td>1.578574</td>\n      <td>1.803972</td>\n      <td>1.624722</td>\n      <td>1.662185</td>\n      <td>NaN</td>\n      <td>NaN</td>\n      <td>NaN</td>\n    </tr>\n    <tr>\n      <th>2</th>\n      <td>Algeria</td>\n      <td>3.007911</td>\n      <td>2.819778</td>\n      <td>3.195865</td>\n      <td>3.168524</td>\n      <td>3.430129</td>\n      <td>3.307164</td>\n      <td>3.300558</td>\n      <td>3.471950</td>\n      <td>3.514780</td>\n      <td>NaN</td>\n      <td>NaN</td>\n      <td>NaN</td>\n    </tr>\n    <tr>\n      <th>3</th>\n      <td>American Samoa</td>\n      <td>NaN</td>\n      <td>NaN</td>\n      <td>NaN</td>\n      <td>NaN</td>\n      <td>NaN</td>\n      <td>NaN</td>\n      <td>NaN</td>\n      <td>NaN</td>\n      <td>NaN</td>\n      <td>NaN</td>\n      <td>NaN</td>\n      <td>NaN</td>\n    </tr>\n    <tr>\n      <th>4</th>\n      <td>Andorra</td>\n      <td>NaN</td>\n      <td>8.018181</td>\n      <td>6.350868</td>\n      <td>6.296125</td>\n      <td>6.049173</td>\n      <td>6.124770</td>\n      <td>5.968685</td>\n      <td>6.195194</td>\n      <td>6.473848</td>\n      <td>NaN</td>\n      <td>NaN</td>\n      <td>NaN</td>\n    </tr>\n  </tbody>\n</table>\n</div>"
     },
     "metadata": {},
     "execution_count": 42
    }
   ],
   "source": [
    "# create a new DataFrame for the CO2 emission from a csv file\n",
    "emission = pd.read_csv('data/emission.csv',encoding = 'ISO-8859-1')\n",
    "emission.head()"
   ]
  },
  {
   "cell_type": "code",
   "execution_count": 43,
   "metadata": {},
   "outputs": [
    {
     "output_type": "execute_result",
     "data": {
      "text/plain": [
       "pandas.core.series.Series"
      ]
     },
     "metadata": {},
     "execution_count": 43
    }
   ],
   "source": [
    "# Create a subset of emission dataset for Year 2010\n",
    "yr2010 = emission['2010']\n",
    "names  = emission['Country']\n",
    "yr2010.index = names\n",
    "type(yr2010)"
   ]
  },
  {
   "cell_type": "code",
   "execution_count": 44,
   "metadata": {},
   "outputs": [
    {
     "output_type": "execute_result",
     "data": {
      "text/plain": [
       "Country\n",
       "Burundi                      0.022480\n",
       "Congo, Dem. Rep.             0.030197\n",
       "Chad                         0.043463\n",
       "Rwanda                       0.057354\n",
       "Central African Republic     0.059398\n",
       "                               ...   \n",
       "Sint Maarten (Dutch part)         NaN\n",
       "South Sudan                       NaN\n",
       "St. Martin (French part)          NaN\n",
       "Tuvalu                            NaN\n",
       "Virgin Islands (U.S.)             NaN\n",
       "Name: 2010, Length: 217, dtype: float64"
      ]
     },
     "metadata": {},
     "execution_count": 44
    }
   ],
   "source": [
    "# Sort column values using sort_values \n",
    "yr2010.sort_values()\n"
   ]
  },
  {
   "cell_type": "code",
   "execution_count": 45,
   "metadata": {},
   "outputs": [
    {
     "output_type": "execute_result",
     "data": {
      "text/plain": [
       "Country\n",
       "Qatar                        41.131162\n",
       "Trinidad and Tobago          36.073741\n",
       "Kuwait                       29.294309\n",
       "Aruba                        24.182702\n",
       "Bahrain                      23.101200\n",
       "                               ...    \n",
       "Sint Maarten (Dutch part)          NaN\n",
       "South Sudan                        NaN\n",
       "St. Martin (French part)           NaN\n",
       "Tuvalu                             NaN\n",
       "Virgin Islands (U.S.)              NaN\n",
       "Name: 2010, Length: 217, dtype: float64"
      ]
     },
     "metadata": {},
     "execution_count": 45
    }
   ],
   "source": [
    "#Sort column values to find the top countries\n",
    "yr2010.sort_values(ascending = False)"
   ]
  },
  {
   "cell_type": "markdown",
   "metadata": {},
   "source": [
    "### <span style=\"color:blue\"> Exercise 1 </span>\n",
    "\n",
    "- Retrieve the mean, median of CO2 emission generated in 2012 by all countries.\n",
    "- Retrieve the top 5 countries with the most CO2 emission in 2012. How about the 5 countries with the least emission? (remember that sort_values has an **ascending** parameter that is set to True by default).\n",
    "- Retrieve the sum of CO2 emission for all years and find the 2 years with the maximum CO2 emission.\n",
    "\n",
    "\n",
    "\n"
   ]
  },
  {
   "cell_type": "code",
   "execution_count": 58,
   "metadata": {},
   "outputs": [],
   "source": [
    "yr2012 = emission['2012']\n",
    "yr2012.index = emission['Country']"
   ]
  },
  {
   "cell_type": "code",
   "execution_count": 59,
   "metadata": {},
   "outputs": [
    {
     "output_type": "execute_result",
     "data": {
      "text/plain": [
       "5.161476912617648"
      ]
     },
     "metadata": {},
     "execution_count": 59
    }
   ],
   "source": [
    "yr2012.mean()"
   ]
  },
  {
   "cell_type": "code",
   "execution_count": 53,
   "metadata": {},
   "outputs": [
    {
     "output_type": "execute_result",
     "data": {
      "text/plain": [
       "2.7530064495"
      ]
     },
     "metadata": {},
     "execution_count": 53
    }
   ],
   "source": [
    "yr2012.median()"
   ]
  },
  {
   "cell_type": "code",
   "execution_count": 60,
   "metadata": {},
   "outputs": [
    {
     "output_type": "execute_result",
     "data": {
      "text/plain": [
       "Country\n",
       "Qatar                  46.697477\n",
       "Curacao                39.638551\n",
       "Trinidad and Tobago    33.819694\n",
       "Kuwait                 29.578729\n",
       "Brunei Darussalam      23.800884\n",
       "Name: 2012, dtype: float64"
      ]
     },
     "metadata": {},
     "execution_count": 60
    }
   ],
   "source": [
    "yr2012.sort_values(ascending = False).head(5)"
   ]
  },
  {
   "cell_type": "code",
   "execution_count": 75,
   "metadata": {},
   "outputs": [
    {
     "output_type": "execute_result",
     "data": {
      "text/plain": [
       "1990     734.237693\n",
       "2000     936.682642\n",
       "2007    1025.977262\n",
       "2008    1023.528475\n",
       "2009     975.062049\n",
       "2010    1010.472087\n",
       "2011     998.017767\n",
       "2012    1052.941290\n",
       "2013    1024.685643\n",
       "2014       0.000000\n",
       "2015       0.000000\n",
       "2016       0.000000\n",
       "dtype: float64"
      ]
     },
     "metadata": {},
     "execution_count": 75
    }
   ],
   "source": [
    "sums = emission.sum(axis=0, numeric_only=True)\n",
    "sums"
   ]
  },
  {
   "cell_type": "code",
   "execution_count": 74,
   "metadata": {},
   "outputs": [
    {
     "output_type": "execute_result",
     "data": {
      "text/plain": [
       "2012    1052.941290\n",
       "2007    1025.977262\n",
       "dtype: float64"
      ]
     },
     "metadata": {},
     "execution_count": 74
    }
   ],
   "source": [
    "sums.sort_values(ascending=False).head(2)"
   ]
  },
  {
   "cell_type": "markdown",
   "metadata": {},
   "source": [
    "# More Sort Operations\n",
    "Pandas allows you to sort your DataFrame by rows/columns as follows:"
   ]
  },
  {
   "cell_type": "code",
   "execution_count": null,
   "metadata": {},
   "outputs": [],
   "source": [
    "# Sort column values of a DataFrame\n",
    "sorted2012 = emission.sort_values( by = '2012',ascending = False )\n",
    "sorted2012"
   ]
  },
  {
   "cell_type": "code",
   "execution_count": null,
   "metadata": {},
   "outputs": [],
   "source": [
    "# Sort column values using two columns\n",
    "sorted2012 = emission.sort_values( by = ['2012','2013'],ascending = [False, True] )\n",
    "sorted2012"
   ]
  },
  {
   "cell_type": "markdown",
   "metadata": {},
   "source": [
    "#### Slicing using the .loc and .iloc method\n",
    "Slicing allows you to take part of your DataFrame.  You can use the .iloc method to select data using row/column numbers, or use .loc to select data using row/column headings.  See [this article](https://www.shanelynn.ie/select-pandas-dataframe-rows-and-columns-using-iloc-loc-and-ix/) for more examples"
   ]
  },
  {
   "cell_type": "code",
   "execution_count": null,
   "metadata": {},
   "outputs": [],
   "source": [
    "# Slicing using a range of rows and range of columns \n",
    "emission.iloc[2:5,2:6]"
   ]
  },
  {
   "cell_type": "code",
   "execution_count": null,
   "metadata": {},
   "outputs": [],
   "source": [
    "# Slicing using specific rows and specific columns\n",
    "emission.loc[[3,5],['Country','1990']]"
   ]
  },
  {
   "cell_type": "code",
   "execution_count": null,
   "metadata": {},
   "outputs": [],
   "source": [
    "# Specific rows and all columns\n",
    "\n",
    "emission.loc[[3,5],:]"
   ]
  },
  {
   "cell_type": "code",
   "execution_count": null,
   "metadata": {},
   "outputs": [],
   "source": [
    "# All rows and specific columns\n",
    "emission.loc[:,['Country','1990']]"
   ]
  },
  {
   "cell_type": "markdown",
   "metadata": {},
   "source": [
    "### <span style=\"color:blue\"> Exercise 2 </span>\n",
    "\n",
    "Create a DataFrame object that has the name, region and IncomeGroup of the top 10 emitting countries in 2012.\n",
    "\n",
    "\n",
    "\n",
    "\n"
   ]
  },
  {
   "cell_type": "code",
   "execution_count": null,
   "metadata": {},
   "outputs": [],
   "source": []
  },
  {
   "cell_type": "markdown",
   "metadata": {},
   "source": [
    "## Groupby\n",
    "The Groupby method lets you separate the data into different groups based off shared characteristics.  For example, we could group countries by region or income range and then analyse those groups individually.  The official documentation on groupby can be found [here](https://pandas.pydata.org/pandas-docs/stable/user_guide/groupby.html).  [This tutorial](https://www.marsja.se/python-pandas-groupby-tutorial-examples/) is also well worth reading."
   ]
  },
  {
   "cell_type": "markdown",
   "metadata": {},
   "source": [
    "#### Groupby\n",
    "<img src=\"files/images/groupby1.jpg\">"
   ]
  },
  {
   "cell_type": "markdown",
   "metadata": {},
   "source": [
    "### <span style=\"color:blue\"> Exercise 3 </span>\n",
    "\n",
    "Using Countries data frame, group the rows using the Region column.\n",
    "* Show the size of each group\n",
    "* Find the number of high income and low income countries by region"
   ]
  },
  {
   "cell_type": "code",
   "execution_count": null,
   "metadata": {},
   "outputs": [],
   "source": [
    "##answer here\n",
    "\n"
   ]
  }
 ],
 "metadata": {
  "kernelspec": {
   "display_name": "Python 3",
   "language": "python",
   "name": "python3"
  },
  "language_info": {
   "codemirror_mode": {
    "name": "ipython",
    "version": 3
   },
   "file_extension": ".py",
   "mimetype": "text/x-python",
   "name": "python",
   "nbconvert_exporter": "python",
   "pygments_lexer": "ipython3",
   "version": "3.8.5-final"
  },
  "latex_envs": {
   "LaTeX_envs_menu_present": true,
   "autocomplete": true,
   "bibliofile": "biblio.bib",
   "cite_by": "apalike",
   "current_citInitial": 1,
   "eqLabelWithNumbers": true,
   "eqNumInitial": 1,
   "hotkeys": {
    "equation": "Ctrl-E",
    "itemize": "Ctrl-I"
   },
   "labels_anchors": false,
   "latex_user_defs": false,
   "report_style_numbering": false,
   "user_envs_cfg": false
  }
 },
 "nbformat": 4,
 "nbformat_minor": 4
}